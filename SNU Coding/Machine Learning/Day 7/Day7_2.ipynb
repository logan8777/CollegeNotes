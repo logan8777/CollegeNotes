{
 "cells": [
  {
   "cell_type": "code",
   "execution_count": 1,
   "id": "7545e6dd-52cf-4a2f-a7cc-8eaf198bacb9",
   "metadata": {},
   "outputs": [
    {
     "name": "stdout",
     "output_type": "stream",
     "text": [
      "     Age Sex      BP Cholesterol  Na_to_K   Drug\n",
      "0     23   F    HIGH        HIGH   25.355  drugY\n",
      "1     47   M     LOW        HIGH   13.093  drugC\n",
      "2     47   M     LOW        HIGH   10.114  drugC\n",
      "3     28   F  NORMAL        HIGH    7.798  drugX\n",
      "4     61   F     LOW        HIGH   18.043  drugY\n",
      "..   ...  ..     ...         ...      ...    ...\n",
      "195   56   F     LOW        HIGH   11.567  drugC\n",
      "196   16   M     LOW        HIGH   12.006  drugC\n",
      "197   52   M  NORMAL        HIGH    9.894  drugX\n",
      "198   23   M  NORMAL      NORMAL   14.020  drugX\n",
      "199   40   F     LOW      NORMAL   11.349  drugX\n",
      "\n",
      "[200 rows x 6 columns]\n"
     ]
    }
   ],
   "source": [
    "import pandas as pd\n",
    "df = pd.read_csv(\"drug.csv\")\n",
    "print(df)"
   ]
  },
  {
   "cell_type": "code",
   "execution_count": 11,
   "id": "bd2e274c-6ec9-4cf2-855f-1defac31ff89",
   "metadata": {},
   "outputs": [
    {
     "data": {
      "text/plain": [
       "<Axes: >"
      ]
     },
     "execution_count": 11,
     "metadata": {},
     "output_type": "execute_result"
    },
    {
     "data": {
      "image/png": "[encoded data removed]",
      "text/plain": [
       "<Figure size 1000x800 with 2 Axes>"
      ]
     },
     "metadata": {},
     "output_type": "display_data"
    }
   ],
   "source": [
    "import matplotlib.pyplot as plt\n",
    "import seaborn as sns\n",
    "import numpy as np\n",
    "\n",
    "f, ax=plt.subplots(figsize=(10,8))\n",
    "from sklearn.preprocessing import LabelEncoder\n",
    "\n",
    "df_encoded = df.copy()\n",
    "for col in df.select_dtypes(include=['object']).columns:\n",
    "    df_encoded[col] = LabelEncoder().fit_transform(df[col])\n",
    "\n",
    "corr = df_encoded.corr()\n",
    "sns.heatmap(corr, square=True, ax=ax)"
   ]
  },
  {
   "cell_type": "code",
   "execution_count": 13,
   "id": "08b1ffc9-0507-4c66-a192-84c5386723b1",
   "metadata": {},
   "outputs": [
    {
     "name": "stdout",
     "output_type": "stream",
     "text": [
      "X Values\n",
      "     Age Sex      BP Cholesterol  Na_to_K\n",
      "0     23   F    HIGH        HIGH   25.355\n",
      "1     47   M     LOW        HIGH   13.093\n",
      "2     47   M     LOW        HIGH   10.114\n",
      "3     28   F  NORMAL        HIGH    7.798\n",
      "4     61   F     LOW        HIGH   18.043\n",
      "..   ...  ..     ...         ...      ...\n",
      "195   56   F     LOW        HIGH   11.567\n",
      "196   16   M     LOW        HIGH   12.006\n",
      "197   52   M  NORMAL        HIGH    9.894\n",
      "198   23   M  NORMAL      NORMAL   14.020\n",
      "199   40   F     LOW      NORMAL   11.349\n",
      "\n",
      "[200 rows x 5 columns]\n",
      "Y Values\n",
      "0      drugY\n",
      "1      drugC\n",
      "2      drugC\n",
      "3      drugX\n",
      "4      drugY\n",
      "       ...  \n",
      "195    drugC\n",
      "196    drugC\n",
      "197    drugX\n",
      "198    drugX\n",
      "199    drugX\n",
      "Name: Drug, Length: 200, dtype: object\n"
     ]
    }
   ],
   "source": [
    "x=df.iloc[:,:-1]\n",
    "y=df.iloc[:,-1]\n",
    "print(\"X Values\")\n",
    "print(x)\n",
    "print(\"Y Values\")\n",
    "print(y)"
   ]
  },
  {
   "cell_type": "code",
   "execution_count": 23,
   "id": "626823e6-83fe-47a6-9e2b-6bbd5d9c6502",
   "metadata": {},
   "outputs": [
    {
     "name": "stdout",
     "output_type": "stream",
     "text": [
      "0.7\n",
      "              precision    recall  f1-score   support\n",
      "\n",
      "       drugA       1.00      0.71      0.83         7\n",
      "       drugB       1.00      0.80      0.89         5\n",
      "       drugC       0.83      1.00      0.91         5\n",
      "       drugX       0.54      0.94      0.68        16\n",
      "       drugY       0.76      0.48      0.59        27\n",
      "\n",
      "    accuracy                           0.70        60\n",
      "   macro avg       0.83      0.79      0.78        60\n",
      "weighted avg       0.76      0.70      0.69        60\n",
      "\n",
      "[[ 5  0  0  0  2]\n",
      " [ 0  4  0  0  1]\n",
      " [ 0  0  5  0  0]\n",
      " [ 0  0  0 15  1]\n",
      " [ 0  0  1 13 13]]\n"
     ]
    }
   ],
   "source": [
    "from sklearn import neighbors, preprocessing\n",
    "from sklearn.model_selection import train_test_split\n",
    "from sklearn.metrics import accuracy_score, classification_report, confusion_matrix\n",
    "from sklearn.preprocessing import OneHotEncoder\n",
    "import pandas as pd\n",
    "import numpy as np\n",
    "\n",
    "# Assuming x and y are already defined as features and labels\n",
    "encoder = OneHotEncoder(handle_unknown='ignore', sparse_output=False)  # Fix: Use sparse_output instead of sparse\n",
    "X_categorical = x.select_dtypes(include=['object'])  # Select categorical columns\n",
    "X_encoded = encoder.fit_transform(X_categorical)  # One-hot encode categorical data\n",
    "\n",
    "X_numeric = x.select_dtypes(include=[np.number])  # Select numeric columns\n",
    "X_final = np.hstack((X_numeric, X_encoded))  # Combine numeric and encoded categorical features\n",
    "\n",
    "# Split data\n",
    "Xtrain, Xtest, y_train, y_test = train_test_split(X_final, y, stratify=y, random_state=0, train_size=0.7)\n",
    "\n",
    "# Scale data\n",
    "scaler = preprocessing.StandardScaler().fit(Xtrain)\n",
    "Xtrain = scaler.transform(Xtrain)\n",
    "Xtest = scaler.transform(Xtest)\n",
    "\n",
    "# Train KNN model\n",
    "knn = neighbors.KNeighborsClassifier(n_neighbors=16)\n",
    "knn.fit(Xtrain, y_train)\n",
    "y_pred = knn.predict(Xtest)\n",
    "\n",
    "# Print results\n",
    "print(accuracy_score(y_test, y_pred))\n",
    "print(classification_report(y_test, y_pred))\n",
    "print(confusion_matrix(y_test, y_pred))"
   ]
  },
  {
   "cell_type": "code",
   "execution_count": null,
   "id": "924e9694-ad3a-4097-acf7-657122c9b916",
   "metadata": {},
   "outputs": [],
   "source": []
  }
 ],
 "metadata": {
  "kernelspec": {
   "display_name": "Python [conda env:base] *",
   "language": "python",
   "name": "conda-base-py"
  },
  "language_info": {
   "codemirror_mode": {
    "name": "ipython",
    "version": 3
   },
   "file_extension": ".py",
   "mimetype": "text/x-python",
   "name": "python",
   "nbconvert_exporter": "python",
   "pygments_lexer": "ipython3",
   "version": "3.12.7"
  }
 },
 "nbformat": 4,
 "nbformat_minor": 5
}
