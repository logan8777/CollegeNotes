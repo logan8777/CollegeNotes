{
 "cells": [
  {
   "cell_type": "code",
   "execution_count": 11,
   "id": "8ca9a255-3c8e-42fb-9ad5-4e4ec68b36b6",
   "metadata": {},
   "outputs": [
    {
     "name": "stdout",
     "output_type": "stream",
     "text": [
      "          ID  Clump  UnifSize  UnifShape  MargAdh  SingEpiSize BareNuc  \\\n",
      "0    1000025      5         1          1        1            2       1   \n",
      "1    1002945      5         4          4        5            7      10   \n",
      "2    1015425      3         1          1        1            2       2   \n",
      "3    1016277      6         8          8        1            3       4   \n",
      "4    1017023      4         1          1        3            2       1   \n",
      "..       ...    ...       ...        ...      ...          ...     ...   \n",
      "694   776715      3         1          1        1            3       2   \n",
      "695   841769      2         1          1        1            2       1   \n",
      "696   888820      5        10         10        3            7       3   \n",
      "697   897471      4         8          6        4            3       4   \n",
      "698   897471      4         8          8        5            4       5   \n",
      "\n",
      "     BlandChrom  NormNucl  Mit  Class  \n",
      "0             3         1    1      2  \n",
      "1             3         2    1      2  \n",
      "2             3         1    1      2  \n",
      "3             3         7    1      2  \n",
      "4             3         1    1      2  \n",
      "..          ...       ...  ...    ...  \n",
      "694           1         1    1      2  \n",
      "695           1         1    1      2  \n",
      "696           8        10    2      4  \n",
      "697          10         6    1      4  \n",
      "698          10         4    1      4  \n",
      "\n",
      "[699 rows x 11 columns]\n"
     ]
    }
   ],
   "source": [
    "import pandas as pd\n",
    "from sklearn.linear_model import LogisticRegression\n",
    "\n",
    "df = pd.read_csv(\"samples_cancer.csv\")\n",
    "print(df)"
   ]
  },
  {
   "cell_type": "code",
   "execution_count": 5,
   "id": "cc0b3131-a9c4-4ce5-9c4b-f3035656706d",
   "metadata": {},
   "outputs": [
    {
     "name": "stdout",
     "output_type": "stream",
     "text": [
      "     Clump  UnifSize  UnifShape  MargAdh  SingEpiSize BareNuc  BlandChrom  \\\n",
      "0        5         1          1        1            2       1           3   \n",
      "1        5         4          4        5            7      10           3   \n",
      "2        3         1          1        1            2       2           3   \n",
      "3        6         8          8        1            3       4           3   \n",
      "4        4         1          1        3            2       1           3   \n",
      "..     ...       ...        ...      ...          ...     ...         ...   \n",
      "694      3         1          1        1            3       2           1   \n",
      "695      2         1          1        1            2       1           1   \n",
      "696      5        10         10        3            7       3           8   \n",
      "697      4         8          6        4            3       4          10   \n",
      "698      4         8          8        5            4       5          10   \n",
      "\n",
      "     NormNucl  Mit  Class  \n",
      "0           1    1      2  \n",
      "1           2    1      2  \n",
      "2           1    1      2  \n",
      "3           7    1      2  \n",
      "4           1    1      2  \n",
      "..        ...  ...    ...  \n",
      "694         1    1      2  \n",
      "695         1    1      2  \n",
      "696        10    2      4  \n",
      "697         6    1      4  \n",
      "698         4    1      4  \n",
      "\n",
      "[699 rows x 10 columns]\n"
     ]
    }
   ],
   "source": [
    "df.drop(columns=['ID'], inplace=True)\n",
    "print(df)"
   ]
  },
  {
   "cell_type": "code",
   "execution_count": 5,
   "id": "72977d42-396c-4a26-92bc-ef32664c64a8",
   "metadata": {},
   "outputs": [
    {
     "data": {
      "text/plain": [
       "<bound method DataFrame.dropna of           ID  Clump  UnifSize  UnifShape  MargAdh  SingEpiSize BareNuc  \\\n",
       "0    1000025      5         1          1        1            2       1   \n",
       "1    1002945      5         4          4        5            7      10   \n",
       "2    1015425      3         1          1        1            2       2   \n",
       "3    1016277      6         8          8        1            3       4   \n",
       "4    1017023      4         1          1        3            2       1   \n",
       "..       ...    ...       ...        ...      ...          ...     ...   \n",
       "694   776715      3         1          1        1            3       2   \n",
       "695   841769      2         1          1        1            2       1   \n",
       "696   888820      5        10         10        3            7       3   \n",
       "697   897471      4         8          6        4            3       4   \n",
       "698   897471      4         8          8        5            4       5   \n",
       "\n",
       "     BlandChrom  NormNucl  Mit  Class  \n",
       "0             3         1    1      2  \n",
       "1             3         2    1      2  \n",
       "2             3         1    1      2  \n",
       "3             3         7    1      2  \n",
       "4             3         1    1      2  \n",
       "..          ...       ...  ...    ...  \n",
       "694           1         1    1      2  \n",
       "695           1         1    1      2  \n",
       "696           8        10    2      4  \n",
       "697          10         6    1      4  \n",
       "698          10         4    1      4  \n",
       "\n",
       "[683 rows x 11 columns]>"
      ]
     },
     "execution_count": 5,
     "metadata": {},
     "output_type": "execute_result"
    }
   ],
   "source": [
    "import numpy as np\n",
    "df.replace(\"?\", np.nan, inplace=True)\n",
    "df.dropna(inplace=True)\n",
    "df.dropna"
   ]
  },
  {
   "cell_type": "code",
   "execution_count": 9,
   "id": "0b3c1140-d46b-4135-96f6-ab9c84ad3c30",
   "metadata": {},
   "outputs": [
    {
     "name": "stdout",
     "output_type": "stream",
     "text": [
      "X values\n",
      "          ID  Clump  UnifSize  UnifShape  MargAdh  SingEpiSize BareNuc  \\\n",
      "0    1000025      5         1          1        1            2       1   \n",
      "1    1002945      5         4          4        5            7      10   \n",
      "2    1015425      3         1          1        1            2       2   \n",
      "3    1016277      6         8          8        1            3       4   \n",
      "4    1017023      4         1          1        3            2       1   \n",
      "..       ...    ...       ...        ...      ...          ...     ...   \n",
      "694   776715      3         1          1        1            3       2   \n",
      "695   841769      2         1          1        1            2       1   \n",
      "696   888820      5        10         10        3            7       3   \n",
      "697   897471      4         8          6        4            3       4   \n",
      "698   897471      4         8          8        5            4       5   \n",
      "\n",
      "     BlandChrom  NormNucl  Mit  \n",
      "0             3         1    1  \n",
      "1             3         2    1  \n",
      "2             3         1    1  \n",
      "3             3         7    1  \n",
      "4             3         1    1  \n",
      "..          ...       ...  ...  \n",
      "694           1         1    1  \n",
      "695           1         1    1  \n",
      "696           8        10    2  \n",
      "697          10         6    1  \n",
      "698          10         4    1  \n",
      "\n",
      "[683 rows x 10 columns]\n",
      "Y values\n",
      "0      2\n",
      "1      2\n",
      "2      2\n",
      "3      2\n",
      "4      2\n",
      "      ..\n",
      "694    2\n",
      "695    2\n",
      "696    4\n",
      "697    4\n",
      "698    4\n",
      "Name: Class, Length: 683, dtype: int64\n"
     ]
    }
   ],
   "source": [
    "x = df.iloc[:,:-1]\n",
    "y = df.iloc[:,-1]\n",
    "print(\"X values\")\n",
    "print(x)\n",
    "print(\"Y values\")\n",
    "print(y)"
   ]
  },
  {
   "cell_type": "code",
   "execution_count": 15,
   "id": "5782210e-108e-4a6f-a4c9-d18a3ac4ef12",
   "metadata": {},
   "outputs": [
    {
     "name": "stdout",
     "output_type": "stream",
     "text": [
      "StandardScaler()\n"
     ]
    }
   ],
   "source": [
    "from sklearn.preprocessing import StandardScaler\n",
    "scaler=StandardScaler()\n",
    "print(scaler.fit(x))"
   ]
  },
  {
   "cell_type": "code",
   "execution_count": 17,
   "id": "8c264ffc-ea64-4d5c-8ad7-596ebc18b9f1",
   "metadata": {},
   "outputs": [],
   "source": [
    "from sklearn.model_selection import train_test_split\n",
    "x_train, x_test, y_train, y_test = train_test_split(x,y,test_size = 0.2, random_state = 0)"
   ]
  },
  {
   "cell_type": "code",
   "execution_count": null,
   "id": "719be22d-564c-4867-85e8-a9ab1c4c9888",
   "metadata": {},
   "outputs": [],
   "source": []
  }
 ],
 "metadata": {
  "kernelspec": {
   "display_name": "Python [conda env:base] *",
   "language": "python",
   "name": "conda-base-py"
  },
  "language_info": {
   "codemirror_mode": {
    "name": "ipython",
    "version": 3
   },
   "file_extension": ".py",
   "mimetype": "text/x-python",
   "name": "python",
   "nbconvert_exporter": "python",
   "pygments_lexer": "ipython3",
   "version": "3.12.7"
  }
 },
 "nbformat": 4,
 "nbformat_minor": 5
}
